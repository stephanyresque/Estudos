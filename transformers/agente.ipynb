{
 "cells": [
  {
   "cell_type": "code",
   "execution_count": 1,
   "id": "dee5fcf9",
   "metadata": {},
   "outputs": [],
   "source": [
    "import os\n",
    "from langchain_openai import OpenAIEmbeddings, ChatOpenAI\n",
    "from langchain_community.vectorstores import FAISS\n",
    "from langchain_community.document_loaders import PyPDFLoader\n",
    "from langchain_core.chat_history import InMemoryChatMessageHistory\n",
    "from langchain_core.runnables.history import RunnableWithMessageHistory\n",
    "from langchain.chains import ConversationalRetrievalChain\n",
    "from langchain.schema import SystemMessage"
   ]
  },
  {
   "cell_type": "code",
   "execution_count": null,
   "id": "b3f15b8c",
   "metadata": {},
   "outputs": [],
   "source": [
    "OPENAI_API_KEY = \"##\"\n",
    "os.environ[\"OPENAI_API_KEY\"] = OPENAI_API_KEY"
   ]
  },
  {
   "cell_type": "code",
   "execution_count": 3,
   "id": "98831401",
   "metadata": {},
   "outputs": [],
   "source": [
    "loader = PyPDFLoader(\"manual_avancado_nobreak_fxp2000.pdf\")\n",
    "documents = loader.load()"
   ]
  },
  {
   "cell_type": "code",
   "execution_count": null,
   "id": "08293274",
   "metadata": {},
   "outputs": [],
   "source": [
    "embeddings = OpenAIEmbeddings()\n",
    "vectorstore = FAISS.from_documents(documents,embeddings)\n",
    "retriever = vectorstore.as_retriever()"
   ]
  },
  {
   "cell_type": "code",
   "execution_count": null,
   "id": "e320734b",
   "metadata": {},
   "outputs": [],
   "source": [
    "chat = ChatOpenAI(model='gpt-4o', temperature=0)"
   ]
  },
  {
   "cell_type": "code",
   "execution_count": null,
   "id": "2e567dc2",
   "metadata": {},
   "outputs": [],
   "source": [
    "system_message = SystemMessage(content=('''\n",
    "Você é um assistente virtual especializado no atendimento ao cliente no nobreak FXP-2000.\n",
    "Responsa claramente perguntas técnicas, funcionalidades, garantia, manutenção, atualizações e suporte técnico.\n",
    "Se a pergunta for irrelevante, responda educadamente recusando a pergunta.\n",
    "'''))"
   ]
  },
  {
   "cell_type": "code",
   "execution_count": null,
   "id": "dbe199c6",
   "metadata": {},
   "outputs": [],
   "source": [
    "store = {}\n",
    "def get_session_history(session_id: str):\n",
    "  if session_id not in store:\n",
    "    store[session_id] = InMemoryChatMessageHistory()\n",
    "  return store[session_id]\n",
    "\n",
    "qa_chain = ConversationalRetrievalChain.from_llm(\n",
    "    llm = chat,\n",
    "    retriever = retriever,\n",
    "    return_source_documents = False\n",
    ")\n",
    "\n",
    "chain_with_history = RunnableWithMessageHistory(\n",
    "    qa_chain,\n",
    "    get_session_history,\n",
    "    input_messages_key=\"question\",\n",
    "    history_messages_key=\"chat_history\"\n",
    ")"
   ]
  },
  {
   "cell_type": "code",
   "execution_count": null,
   "id": "8515f7da",
   "metadata": {},
   "outputs": [],
   "source": [
    "session_id = \"sessao1\"\n",
    "while True:\n",
    "  pergunta = input(\"Você: \")\n",
    "  if pergunta.lower() in [\"sair\",\"quit\",\"exit\"]:\n",
    "    print(\"Até logo!\")\n",
    "    break\n",
    "  resposta = chain_with_history.invoke(\n",
    "      {\"question\": pergunta},\n",
    "      config={\"configurable\":{\"session_id\": session_id}}\n",
    "  )\n",
    "  print(\"Assistente: \", resposta[\"answer\"])\n"
   ]
  }
 ],
 "metadata": {
  "kernelspec": {
   "display_name": "meu_env",
   "language": "python",
   "name": "python3"
  },
  "language_info": {
   "codemirror_mode": {
    "name": "ipython",
    "version": 3
   },
   "file_extension": ".py",
   "mimetype": "text/x-python",
   "name": "python",
   "nbconvert_exporter": "python",
   "pygments_lexer": "ipython3",
   "version": "3.13.2"
  }
 },
 "nbformat": 4,
 "nbformat_minor": 5
}
