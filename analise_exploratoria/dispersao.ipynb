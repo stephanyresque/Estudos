{
 "cells": [
  {
   "cell_type": "code",
   "execution_count": null,
   "id": "26e8eda7",
   "metadata": {},
   "outputs": [],
   "source": [
    "import pandas as pd\n",
    "import numpy as np\n",
    "import matplotlib.pyplot as plt\n",
    "import seaborn as sns\n",
    "\n",
    "PATH = r\"C:\\Users\\steph\\OneDrive\\Documentos\\MeusProjetos\\Estudos\\analise_exploratoria\\dados\\trees.csv\"\n",
    "df = pd.read_csv(PATH)"
   ]
  }
 ],
 "metadata": {
  "language_info": {
   "name": "python"
  }
 },
 "nbformat": 4,
 "nbformat_minor": 5
}
