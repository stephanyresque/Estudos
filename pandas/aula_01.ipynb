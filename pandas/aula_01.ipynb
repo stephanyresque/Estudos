{
 "cells": [
  {
   "cell_type": "markdown",
   "id": "6e33c2ad",
   "metadata": {},
   "source": [
    "# Series"
   ]
  },
  {
   "cell_type": "code",
   "execution_count": 1,
   "id": "d8e20d01",
   "metadata": {},
   "outputs": [],
   "source": [
    "import pandas as pd"
   ]
  },
  {
   "cell_type": "code",
   "execution_count": 2,
   "id": "81de246b",
   "metadata": {},
   "outputs": [
    {
     "data": {
      "text/plain": [
       "[10, 15, 25, 24, 36, 40]"
      ]
     },
     "execution_count": 2,
     "metadata": {},
     "output_type": "execute_result"
    }
   ],
   "source": [
    "idades = [10, 15, 25, 24, 36, 40]\n",
    "idades"
   ]
  },
  {
   "cell_type": "code",
   "execution_count": 3,
   "id": "90db5125",
   "metadata": {},
   "outputs": [],
   "source": [
    "series_idades = pd.Series(idades)"
   ]
  },
  {
   "cell_type": "code",
   "execution_count": 4,
   "id": "32e25541",
   "metadata": {},
   "outputs": [
    {
     "data": {
      "text/plain": [
       "0    10\n",
       "1    15\n",
       "2    25\n",
       "3    24\n",
       "4    36\n",
       "5    40\n",
       "dtype: int64"
      ]
     },
     "execution_count": 4,
     "metadata": {},
     "output_type": "execute_result"
    }
   ],
   "source": [
    "series_idades"
   ]
  },
  {
   "cell_type": "code",
   "execution_count": 5,
   "id": "b43395e1",
   "metadata": {},
   "outputs": [
    {
     "data": {
      "text/plain": [
       "np.float64(25.0)"
      ]
     },
     "execution_count": 5,
     "metadata": {},
     "output_type": "execute_result"
    }
   ],
   "source": [
    "series_idades.mean()"
   ]
  },
  {
   "cell_type": "code",
   "execution_count": 6,
   "id": "44807fc6",
   "metadata": {},
   "outputs": [
    {
     "data": {
      "text/plain": [
       "np.float64(134.4)"
      ]
     },
     "execution_count": 6,
     "metadata": {},
     "output_type": "execute_result"
    }
   ],
   "source": [
    "series_idades.var()"
   ]
  },
  {
   "cell_type": "code",
   "execution_count": 7,
   "id": "e0b10502",
   "metadata": {},
   "outputs": [
    {
     "data": {
      "text/plain": [
       "np.float64(24.5)"
      ]
     },
     "execution_count": 7,
     "metadata": {},
     "output_type": "execute_result"
    }
   ],
   "source": [
    "series_idades.median()"
   ]
  },
  {
   "cell_type": "code",
   "execution_count": 8,
   "id": "492fbee2",
   "metadata": {},
   "outputs": [
    {
     "data": {
      "text/plain": [
       "np.float64(11.593101396951552)"
      ]
     },
     "execution_count": 8,
     "metadata": {},
     "output_type": "execute_result"
    }
   ],
   "source": [
    "series_idades.std()"
   ]
  },
  {
   "cell_type": "code",
   "execution_count": 9,
   "id": "210b82d8",
   "metadata": {},
   "outputs": [
    {
     "data": {
      "text/plain": [
       "np.float64(17.25)"
      ]
     },
     "execution_count": 9,
     "metadata": {},
     "output_type": "execute_result"
    }
   ],
   "source": [
    "series_idades.quantile(0.25)"
   ]
  },
  {
   "cell_type": "code",
   "execution_count": 10,
   "id": "9a171f22",
   "metadata": {},
   "outputs": [
    {
     "data": {
      "text/plain": [
       "count     6.000000\n",
       "mean     25.000000\n",
       "std      11.593101\n",
       "min      10.000000\n",
       "25%      17.250000\n",
       "50%      24.500000\n",
       "75%      33.250000\n",
       "max      40.000000\n",
       "dtype: float64"
      ]
     },
     "execution_count": 10,
     "metadata": {},
     "output_type": "execute_result"
    }
   ],
   "source": [
    "series_idades.describe()"
   ]
  },
  {
   "cell_type": "code",
   "execution_count": 11,
   "id": "c02feccd",
   "metadata": {},
   "outputs": [
    {
     "data": {
      "text/plain": [
       "(6,)"
      ]
     },
     "execution_count": 11,
     "metadata": {},
     "output_type": "execute_result"
    }
   ],
   "source": [
    "series_idades.shape"
   ]
  },
  {
   "cell_type": "code",
   "execution_count": 17,
   "id": "f20a3366",
   "metadata": {},
   "outputs": [
    {
     "data": {
      "text/plain": [
       "24"
      ]
     },
     "execution_count": 17,
     "metadata": {},
     "output_type": "execute_result"
    }
   ],
   "source": [
    "idades[3]"
   ]
  },
  {
   "cell_type": "code",
   "execution_count": null,
   "id": "986f8d31",
   "metadata": {},
   "outputs": [
    {
     "data": {
      "text/plain": [
       "np.int64(24)"
      ]
     },
     "execution_count": 16,
     "metadata": {},
     "output_type": "execute_result"
    }
   ],
   "source": [
    "series_idades[3] #-1 não funciona... pois estamos buscando um index"
   ]
  },
  {
   "cell_type": "code",
   "execution_count": 18,
   "id": "a98192c9",
   "metadata": {},
   "outputs": [
    {
     "data": {
      "text/plain": [
       "RangeIndex(start=0, stop=6, step=1)"
      ]
     },
     "execution_count": 18,
     "metadata": {},
     "output_type": "execute_result"
    }
   ],
   "source": [
    "series_idades.index"
   ]
  },
  {
   "cell_type": "code",
   "execution_count": null,
   "id": "84dcc8ea",
   "metadata": {},
   "outputs": [
    {
     "data": {
      "text/plain": [
       "a    10\n",
       "b    15\n",
       "c    25\n",
       "d    24\n",
       "e    36\n",
       "f    40\n",
       "dtype: int64"
      ]
     },
     "execution_count": 22,
     "metadata": {},
     "output_type": "execute_result"
    }
   ],
   "source": [
    "series_idades.index = ['a', 'b', 'c', 'd', 'e', 'f'] #não recomendado\n",
    "series_idades"
   ]
  },
  {
   "cell_type": "code",
   "execution_count": 24,
   "id": "534c211c",
   "metadata": {},
   "outputs": [
    {
     "data": {
      "text/plain": [
       "np.int64(10)"
      ]
     },
     "execution_count": 24,
     "metadata": {},
     "output_type": "execute_result"
    }
   ],
   "source": [
    "series_idades['a']"
   ]
  },
  {
   "cell_type": "code",
   "execution_count": 25,
   "id": "10c488d3",
   "metadata": {},
   "outputs": [
    {
     "data": {
      "text/plain": [
       "10    10\n",
       "45    15\n",
       "20    25\n",
       "15    24\n",
       "24    36\n",
       "70    40\n",
       "dtype: int64"
      ]
     },
     "execution_count": 25,
     "metadata": {},
     "output_type": "execute_result"
    }
   ],
   "source": [
    "series_idades.index = [10, 45, 20, 15, 24, 70] #index pode ser qualquer coisa\n",
    "series_idades"
   ]
  },
  {
   "cell_type": "code",
   "execution_count": 27,
   "id": "ce8850f6",
   "metadata": {},
   "outputs": [
    {
     "data": {
      "text/plain": [
       "np.int64(40)"
      ]
     },
     "execution_count": 27,
     "metadata": {},
     "output_type": "execute_result"
    }
   ],
   "source": [
    "series_idades[70] #buscar pelo índice"
   ]
  },
  {
   "cell_type": "code",
   "execution_count": 29,
   "id": "ce89c07c",
   "metadata": {},
   "outputs": [
    {
     "data": {
      "text/plain": [
       "np.int64(24)"
      ]
     },
     "execution_count": 29,
     "metadata": {},
     "output_type": "execute_result"
    }
   ],
   "source": [
    "series_idades.iloc[3] #buscar pela posição, sem se importar com o índice"
   ]
  },
  {
   "cell_type": "code",
   "execution_count": 30,
   "id": "c48c977a",
   "metadata": {},
   "outputs": [
    {
     "data": {
      "text/plain": [
       "10    10\n",
       "45    15\n",
       "dtype: int64"
      ]
     },
     "execution_count": 30,
     "metadata": {},
     "output_type": "execute_result"
    }
   ],
   "source": [
    "series_idades.iloc[0:2]"
   ]
  },
  {
   "cell_type": "code",
   "execution_count": 32,
   "id": "c897596d",
   "metadata": {},
   "outputs": [
    {
     "data": {
      "text/plain": [
       "10    10\n",
       "45    15\n",
       "20    25\n",
       "15    24\n",
       "24    36\n",
       "dtype: int64"
      ]
     },
     "execution_count": 32,
     "metadata": {},
     "output_type": "execute_result"
    }
   ],
   "source": [
    "series_idades.iloc[:5]\n"
   ]
  },
  {
   "cell_type": "code",
   "execution_count": 33,
   "id": "2da69e54",
   "metadata": {},
   "outputs": [
    {
     "data": {
      "text/plain": [
       "np.int64(36)"
      ]
     },
     "execution_count": 33,
     "metadata": {},
     "output_type": "execute_result"
    }
   ],
   "source": [
    "series_idades.loc[24] #pegando pelo índice!"
   ]
  },
  {
   "cell_type": "markdown",
   "id": "aa181f32",
   "metadata": {},
   "source": [
    " ILOC É PELA POSIÇÃO, LOC É PELO ÍNDICE"
   ]
  },
  {
   "cell_type": "code",
   "execution_count": 35,
   "id": "4fe78a4a",
   "metadata": {},
   "outputs": [
    {
     "data": {
      "text/plain": [
       "10    10\n",
       "45    15\n",
       "20    25\n",
       "15    24\n",
       "24    36\n",
       "70    40\n",
       "Name: Idades, dtype: int64"
      ]
     },
     "execution_count": 35,
     "metadata": {},
     "output_type": "execute_result"
    }
   ],
   "source": [
    "series_idades.name = 'Idades'\n",
    "series_idades"
   ]
  },
  {
   "cell_type": "markdown",
   "id": "2f76f3d2",
   "metadata": {},
   "source": [
    "# Dataframes"
   ]
  }
 ],
 "metadata": {
  "kernelspec": {
   "display_name": "meu_env",
   "language": "python",
   "name": "python3"
  },
  "language_info": {
   "codemirror_mode": {
    "name": "ipython",
    "version": 3
   },
   "file_extension": ".py",
   "mimetype": "text/x-python",
   "name": "python",
   "nbconvert_exporter": "python",
   "pygments_lexer": "ipython3",
   "version": "3.13.2"
  }
 },
 "nbformat": 4,
 "nbformat_minor": 5
}
