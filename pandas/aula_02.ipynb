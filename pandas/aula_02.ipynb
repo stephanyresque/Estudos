{
 "cells": [
  {
   "cell_type": "code",
   "execution_count": 3,
   "id": "3e7fb89b",
   "metadata": {},
   "outputs": [],
   "source": [
    "import pandas as pd"
   ]
  },
  {
   "cell_type": "markdown",
   "id": "96f4a668",
   "metadata": {},
   "source": [
    "## Revisão"
   ]
  },
  {
   "cell_type": "code",
   "execution_count": 2,
   "id": "ef9482a3",
   "metadata": {},
   "outputs": [],
   "source": [
    "dados = {\n",
    "    'nome':['Téo', 'Nath', 'Ste'],\n",
    "    'idade':[31, 22, 21]\n",
    "}"
   ]
  },
  {
   "cell_type": "code",
   "execution_count": 7,
   "id": "9f12cf12",
   "metadata": {},
   "outputs": [
    {
     "data": {
      "text/html": [
       "<div>\n",
       "<style scoped>\n",
       "    .dataframe tbody tr th:only-of-type {\n",
       "        vertical-align: middle;\n",
       "    }\n",
       "\n",
       "    .dataframe tbody tr th {\n",
       "        vertical-align: top;\n",
       "    }\n",
       "\n",
       "    .dataframe thead th {\n",
       "        text-align: right;\n",
       "    }\n",
       "</style>\n",
       "<table border=\"1\" class=\"dataframe\">\n",
       "  <thead>\n",
       "    <tr style=\"text-align: right;\">\n",
       "      <th></th>\n",
       "      <th>nome</th>\n",
       "      <th>idade</th>\n",
       "    </tr>\n",
       "  </thead>\n",
       "  <tbody>\n",
       "    <tr>\n",
       "      <th>0</th>\n",
       "      <td>Téo</td>\n",
       "      <td>31</td>\n",
       "    </tr>\n",
       "    <tr>\n",
       "      <th>1</th>\n",
       "      <td>Nath</td>\n",
       "      <td>22</td>\n",
       "    </tr>\n",
       "    <tr>\n",
       "      <th>2</th>\n",
       "      <td>Ste</td>\n",
       "      <td>21</td>\n",
       "    </tr>\n",
       "  </tbody>\n",
       "</table>\n",
       "</div>"
      ],
      "text/plain": [
       "   nome  idade\n",
       "0   Téo     31\n",
       "1  Nath     22\n",
       "2   Ste     21"
      ]
     },
     "execution_count": 7,
     "metadata": {},
     "output_type": "execute_result"
    }
   ],
   "source": [
    "df = pd.DataFrame(dados)\n",
    "df"
   ]
  },
  {
   "cell_type": "code",
   "execution_count": 9,
   "id": "d8a6dcad",
   "metadata": {},
   "outputs": [
    {
     "name": "stdout",
     "output_type": "stream",
     "text": [
      "<class 'pandas.core.frame.DataFrame'>\n",
      "RangeIndex: 3 entries, 0 to 2\n",
      "Data columns (total 2 columns):\n",
      " #   Column  Non-Null Count  Dtype \n",
      "---  ------  --------------  ----- \n",
      " 0   nome    3 non-null      object\n",
      " 1   idade   3 non-null      int64 \n",
      "dtypes: int64(1), object(1)\n",
      "memory usage: 180.0+ bytes\n"
     ]
    }
   ],
   "source": [
    "df.info()"
   ]
  },
  {
   "cell_type": "code",
   "execution_count": 15,
   "id": "0279c4f2",
   "metadata": {},
   "outputs": [
    {
     "data": {
      "text/plain": [
       "'Ste'"
      ]
     },
     "execution_count": 15,
     "metadata": {},
     "output_type": "execute_result"
    }
   ],
   "source": [
    "df['nome'].iloc[-1]"
   ]
  },
  {
   "cell_type": "code",
   "execution_count": 12,
   "id": "61d7f588",
   "metadata": {},
   "outputs": [
    {
     "data": {
      "text/html": [
       "<div>\n",
       "<style scoped>\n",
       "    .dataframe tbody tr th:only-of-type {\n",
       "        vertical-align: middle;\n",
       "    }\n",
       "\n",
       "    .dataframe tbody tr th {\n",
       "        vertical-align: top;\n",
       "    }\n",
       "\n",
       "    .dataframe thead th {\n",
       "        text-align: right;\n",
       "    }\n",
       "</style>\n",
       "<table border=\"1\" class=\"dataframe\">\n",
       "  <thead>\n",
       "    <tr style=\"text-align: right;\">\n",
       "      <th></th>\n",
       "      <th>idade</th>\n",
       "    </tr>\n",
       "  </thead>\n",
       "  <tbody>\n",
       "    <tr>\n",
       "      <th>count</th>\n",
       "      <td>3.000000</td>\n",
       "    </tr>\n",
       "    <tr>\n",
       "      <th>mean</th>\n",
       "      <td>24.666667</td>\n",
       "    </tr>\n",
       "    <tr>\n",
       "      <th>std</th>\n",
       "      <td>5.507571</td>\n",
       "    </tr>\n",
       "    <tr>\n",
       "      <th>min</th>\n",
       "      <td>21.000000</td>\n",
       "    </tr>\n",
       "    <tr>\n",
       "      <th>25%</th>\n",
       "      <td>21.500000</td>\n",
       "    </tr>\n",
       "    <tr>\n",
       "      <th>50%</th>\n",
       "      <td>22.000000</td>\n",
       "    </tr>\n",
       "    <tr>\n",
       "      <th>75%</th>\n",
       "      <td>26.500000</td>\n",
       "    </tr>\n",
       "    <tr>\n",
       "      <th>max</th>\n",
       "      <td>31.000000</td>\n",
       "    </tr>\n",
       "  </tbody>\n",
       "</table>\n",
       "</div>"
      ],
      "text/plain": [
       "           idade\n",
       "count   3.000000\n",
       "mean   24.666667\n",
       "std     5.507571\n",
       "min    21.000000\n",
       "25%    21.500000\n",
       "50%    22.000000\n",
       "75%    26.500000\n",
       "max    31.000000"
      ]
     },
     "execution_count": 12,
     "metadata": {},
     "output_type": "execute_result"
    }
   ],
   "source": [
    "df.describe()"
   ]
  },
  {
   "cell_type": "code",
   "execution_count": 13,
   "id": "8862b9e8",
   "metadata": {},
   "outputs": [
    {
     "data": {
      "text/plain": [
       "count       3\n",
       "unique      3\n",
       "top       Téo\n",
       "freq        1\n",
       "Name: nome, dtype: object"
      ]
     },
     "execution_count": 13,
     "metadata": {},
     "output_type": "execute_result"
    }
   ],
   "source": [
    "df['nome'].describe()"
   ]
  },
  {
   "cell_type": "code",
   "execution_count": 14,
   "id": "0fa2d21d",
   "metadata": {},
   "outputs": [
    {
     "data": {
      "text/plain": [
       "np.float64(24.666666666666668)"
      ]
     },
     "execution_count": 14,
     "metadata": {},
     "output_type": "execute_result"
    }
   ],
   "source": [
    "df['idade'].mean()"
   ]
  },
  {
   "cell_type": "markdown",
   "id": "18037200",
   "metadata": {},
   "source": [
    "## importando arquivos"
   ]
  },
  {
   "cell_type": "code",
   "execution_count": 26,
   "id": "7b238098",
   "metadata": {},
   "outputs": [],
   "source": [
    "PATH = r\"C:\\Users\\steph\\OneDrive\\Documentos\\MeusProjetos\\Estudos\\pandas\\data\\customers.csv\""
   ]
  },
  {
   "cell_type": "code",
   "execution_count": 27,
   "id": "658f45ce",
   "metadata": {},
   "outputs": [
    {
     "data": {
      "text/html": [
       "<div>\n",
       "<style scoped>\n",
       "    .dataframe tbody tr th:only-of-type {\n",
       "        vertical-align: middle;\n",
       "    }\n",
       "\n",
       "    .dataframe tbody tr th {\n",
       "        vertical-align: top;\n",
       "    }\n",
       "\n",
       "    .dataframe thead th {\n",
       "        text-align: right;\n",
       "    }\n",
       "</style>\n",
       "<table border=\"1\" class=\"dataframe\">\n",
       "  <thead>\n",
       "    <tr style=\"text-align: right;\">\n",
       "      <th></th>\n",
       "      <th>UUID</th>\n",
       "      <th>Name</th>\n",
       "      <th>Points</th>\n",
       "    </tr>\n",
       "  </thead>\n",
       "  <tbody>\n",
       "    <tr>\n",
       "      <th>0</th>\n",
       "      <td>aa3eaf74-6d9c-4859-b733-5a18a3b2f71b</td>\n",
       "      <td>afonso_rf</td>\n",
       "      <td>792</td>\n",
       "    </tr>\n",
       "    <tr>\n",
       "      <th>1</th>\n",
       "      <td>2d3d2dce-d353-4961-ad39-46723efe2100</td>\n",
       "      <td>mariicmartins</td>\n",
       "      <td>1375</td>\n",
       "    </tr>\n",
       "    <tr>\n",
       "      <th>2</th>\n",
       "      <td>ca95ef2a-5129-40f4-acbc-2ced25940032</td>\n",
       "      <td>tdlupus</td>\n",
       "      <td>421</td>\n",
       "    </tr>\n",
       "    <tr>\n",
       "      <th>3</th>\n",
       "      <td>65662aff-44d6-4f06-b9d9-07445c6e5943</td>\n",
       "      <td>kozat0</td>\n",
       "      <td>4063</td>\n",
       "    </tr>\n",
       "    <tr>\n",
       "      <th>4</th>\n",
       "      <td>98b960e7-6b7b-45b7-b7af-60bca40e04b9</td>\n",
       "      <td>gu1z17</td>\n",
       "      <td>0</td>\n",
       "    </tr>\n",
       "    <tr>\n",
       "      <th>...</th>\n",
       "      <td>...</td>\n",
       "      <td>...</td>\n",
       "      <td>...</td>\n",
       "    </tr>\n",
       "    <tr>\n",
       "      <th>786</th>\n",
       "      <td>4a36c617-b018-436a-babc-4374461ab87b</td>\n",
       "      <td>null__var</td>\n",
       "      <td>53</td>\n",
       "    </tr>\n",
       "    <tr>\n",
       "      <th>787</th>\n",
       "      <td>403db18e-941e-4e63-ba23-e63c0515876a</td>\n",
       "      <td>lmadriles</td>\n",
       "      <td>50</td>\n",
       "    </tr>\n",
       "    <tr>\n",
       "      <th>788</th>\n",
       "      <td>c9bfbbf9-db90-45a7-a72c-4118140038f4</td>\n",
       "      <td>eduardo_cofferri</td>\n",
       "      <td>50</td>\n",
       "    </tr>\n",
       "    <tr>\n",
       "      <th>789</th>\n",
       "      <td>4caa2fb3-7ed2-436d-bc35-390feebfdebe</td>\n",
       "      <td>marmschu</td>\n",
       "      <td>50</td>\n",
       "    </tr>\n",
       "    <tr>\n",
       "      <th>790</th>\n",
       "      <td>000ff655-fa9f-4baa-a108-47f581ec52a1</td>\n",
       "      <td>cajuuh</td>\n",
       "      <td>52</td>\n",
       "    </tr>\n",
       "  </tbody>\n",
       "</table>\n",
       "<p>791 rows × 3 columns</p>\n",
       "</div>"
      ],
      "text/plain": [
       "                                     UUID              Name  Points\n",
       "0    aa3eaf74-6d9c-4859-b733-5a18a3b2f71b         afonso_rf     792\n",
       "1    2d3d2dce-d353-4961-ad39-46723efe2100     mariicmartins    1375\n",
       "2    ca95ef2a-5129-40f4-acbc-2ced25940032           tdlupus     421\n",
       "3    65662aff-44d6-4f06-b9d9-07445c6e5943            kozat0    4063\n",
       "4    98b960e7-6b7b-45b7-b7af-60bca40e04b9            gu1z17       0\n",
       "..                                    ...               ...     ...\n",
       "786  4a36c617-b018-436a-babc-4374461ab87b         null__var      53\n",
       "787  403db18e-941e-4e63-ba23-e63c0515876a         lmadriles      50\n",
       "788  c9bfbbf9-db90-45a7-a72c-4118140038f4  eduardo_cofferri      50\n",
       "789  4caa2fb3-7ed2-436d-bc35-390feebfdebe          marmschu      50\n",
       "790  000ff655-fa9f-4baa-a108-47f581ec52a1            cajuuh      52\n",
       "\n",
       "[791 rows x 3 columns]"
      ]
     },
     "execution_count": 27,
     "metadata": {},
     "output_type": "execute_result"
    }
   ],
   "source": [
    "df = pd.read_csv(PATH, sep=';')\n",
    "df"
   ]
  },
  {
   "cell_type": "code",
   "execution_count": 28,
   "id": "e7f062ad",
   "metadata": {},
   "outputs": [
    {
     "name": "stdout",
     "output_type": "stream",
     "text": [
      "<class 'pandas.core.frame.DataFrame'>\n",
      "RangeIndex: 791 entries, 0 to 790\n",
      "Data columns (total 3 columns):\n",
      " #   Column  Non-Null Count  Dtype \n",
      "---  ------  --------------  ----- \n",
      " 0   UUID    791 non-null    object\n",
      " 1   Name    791 non-null    object\n",
      " 2   Points  791 non-null    int64 \n",
      "dtypes: int64(1), object(2)\n",
      "memory usage: 18.7+ KB\n"
     ]
    }
   ],
   "source": [
    "df.info()"
   ]
  },
  {
   "cell_type": "code",
   "execution_count": 29,
   "id": "6e8ab08e",
   "metadata": {},
   "outputs": [
    {
     "data": {
      "text/plain": [
       "(791, 3)"
      ]
     },
     "execution_count": 29,
     "metadata": {},
     "output_type": "execute_result"
    }
   ],
   "source": [
    "df.shape"
   ]
  },
  {
   "cell_type": "code",
   "execution_count": 30,
   "id": "a46047a7",
   "metadata": {},
   "outputs": [
    {
     "data": {
      "text/plain": [
       "0       792\n",
       "1      1375\n",
       "2       421\n",
       "3      4063\n",
       "4         0\n",
       "       ... \n",
       "786      53\n",
       "787      50\n",
       "788      50\n",
       "789      50\n",
       "790      52\n",
       "Name: Points, Length: 791, dtype: int64"
      ]
     },
     "execution_count": 30,
     "metadata": {},
     "output_type": "execute_result"
    }
   ],
   "source": [
    "df['Points'].astype(int)"
   ]
  },
  {
   "cell_type": "code",
   "execution_count": 31,
   "id": "0b891915",
   "metadata": {},
   "outputs": [
    {
     "data": {
      "text/plain": [
       "count     791.000000\n",
       "mean      206.697851\n",
       "std       411.585592\n",
       "min         0.000000\n",
       "25%        50.000000\n",
       "50%        58.000000\n",
       "75%       184.000000\n",
       "max      4304.000000\n",
       "Name: Points, dtype: float64"
      ]
     },
     "execution_count": 31,
     "metadata": {},
     "output_type": "execute_result"
    }
   ],
   "source": [
    "df['Points'].describe()"
   ]
  },
  {
   "cell_type": "code",
   "execution_count": 32,
   "id": "9dda5441",
   "metadata": {},
   "outputs": [
    {
     "data": {
      "text/plain": [
       "np.int64(4304)"
      ]
     },
     "execution_count": 32,
     "metadata": {},
     "output_type": "execute_result"
    }
   ],
   "source": [
    "df['Points'].max()"
   ]
  },
  {
   "cell_type": "code",
   "execution_count": 34,
   "id": "882d99ca",
   "metadata": {},
   "outputs": [
    {
     "data": {
      "text/html": [
       "<div>\n",
       "<style scoped>\n",
       "    .dataframe tbody tr th:only-of-type {\n",
       "        vertical-align: middle;\n",
       "    }\n",
       "\n",
       "    .dataframe tbody tr th {\n",
       "        vertical-align: top;\n",
       "    }\n",
       "\n",
       "    .dataframe thead th {\n",
       "        text-align: right;\n",
       "    }\n",
       "</style>\n",
       "<table border=\"1\" class=\"dataframe\">\n",
       "  <thead>\n",
       "    <tr style=\"text-align: right;\">\n",
       "      <th></th>\n",
       "      <th>UUID</th>\n",
       "      <th>Name</th>\n",
       "      <th>Points</th>\n",
       "    </tr>\n",
       "  </thead>\n",
       "  <tbody>\n",
       "    <tr>\n",
       "      <th>436</th>\n",
       "      <td>066c9fc6-f704-4165-a8f3-3d1968b0d4a3</td>\n",
       "      <td>marxzera</td>\n",
       "      <td>4304</td>\n",
       "    </tr>\n",
       "  </tbody>\n",
       "</table>\n",
       "</div>"
      ],
      "text/plain": [
       "                                     UUID      Name  Points\n",
       "436  066c9fc6-f704-4165-a8f3-3d1968b0d4a3  marxzera    4304"
      ]
     },
     "execution_count": 34,
     "metadata": {},
     "output_type": "execute_result"
    }
   ],
   "source": [
    "df.loc[df['Points'] == df['Points'].max()]"
   ]
  },
  {
   "cell_type": "code",
   "execution_count": 38,
   "id": "90f3fb36",
   "metadata": {},
   "outputs": [],
   "source": [
    "condicao = df['Points'] > 1000"
   ]
  },
  {
   "cell_type": "code",
   "execution_count": 39,
   "id": "a95c5410",
   "metadata": {},
   "outputs": [
    {
     "data": {
      "text/html": [
       "<div>\n",
       "<style scoped>\n",
       "    .dataframe tbody tr th:only-of-type {\n",
       "        vertical-align: middle;\n",
       "    }\n",
       "\n",
       "    .dataframe tbody tr th {\n",
       "        vertical-align: top;\n",
       "    }\n",
       "\n",
       "    .dataframe thead th {\n",
       "        text-align: right;\n",
       "    }\n",
       "</style>\n",
       "<table border=\"1\" class=\"dataframe\">\n",
       "  <thead>\n",
       "    <tr style=\"text-align: right;\">\n",
       "      <th></th>\n",
       "      <th>UUID</th>\n",
       "      <th>Name</th>\n",
       "      <th>Points</th>\n",
       "    </tr>\n",
       "  </thead>\n",
       "  <tbody>\n",
       "    <tr>\n",
       "      <th>1</th>\n",
       "      <td>2d3d2dce-d353-4961-ad39-46723efe2100</td>\n",
       "      <td>mariicmartins</td>\n",
       "      <td>1375</td>\n",
       "    </tr>\n",
       "    <tr>\n",
       "      <th>3</th>\n",
       "      <td>65662aff-44d6-4f06-b9d9-07445c6e5943</td>\n",
       "      <td>kozat0</td>\n",
       "      <td>4063</td>\n",
       "    </tr>\n",
       "    <tr>\n",
       "      <th>5</th>\n",
       "      <td>b2f9d026-0727-4125-b84b-c60af3148a15</td>\n",
       "      <td>dcha0tic</td>\n",
       "      <td>2080</td>\n",
       "    </tr>\n",
       "    <tr>\n",
       "      <th>26</th>\n",
       "      <td>54edd84d-73ad-4821-8d53-7ed04f00b2e4</td>\n",
       "      <td>kaycristina</td>\n",
       "      <td>1153</td>\n",
       "    </tr>\n",
       "    <tr>\n",
       "      <th>29</th>\n",
       "      <td>a1478518-6bf1-41e7-895b-355a06554b96</td>\n",
       "      <td>talismacedo</td>\n",
       "      <td>1116</td>\n",
       "    </tr>\n",
       "    <tr>\n",
       "      <th>34</th>\n",
       "      <td>99431a0f-1f38-47ab-9136-445c7afae00d</td>\n",
       "      <td>nicolaslima167</td>\n",
       "      <td>1364</td>\n",
       "    </tr>\n",
       "    <tr>\n",
       "      <th>43</th>\n",
       "      <td>af4f97a5-90a8-4ebf-8420-d7766ad093ea</td>\n",
       "      <td>ldbressan</td>\n",
       "      <td>1038</td>\n",
       "    </tr>\n",
       "    <tr>\n",
       "      <th>47</th>\n",
       "      <td>4c77c153-19b9-42e2-a03c-04f43dcc6105</td>\n",
       "      <td>vinnyportugal07</td>\n",
       "      <td>1211</td>\n",
       "    </tr>\n",
       "    <tr>\n",
       "      <th>59</th>\n",
       "      <td>21943df7-272e-46ef-aeb7-933a6637bfd5</td>\n",
       "      <td>gabra_alves</td>\n",
       "      <td>1013</td>\n",
       "    </tr>\n",
       "    <tr>\n",
       "      <th>60</th>\n",
       "      <td>2a9d4ba3-4c58-47f9-8dc4-6f9cb50be1b1</td>\n",
       "      <td>dabathehutt</td>\n",
       "      <td>1307</td>\n",
       "    </tr>\n",
       "    <tr>\n",
       "      <th>68</th>\n",
       "      <td>74c06e4d-0d4f-48f1-96af-a03c7b18ce47</td>\n",
       "      <td>thamibetin</td>\n",
       "      <td>1940</td>\n",
       "    </tr>\n",
       "    <tr>\n",
       "      <th>77</th>\n",
       "      <td>98953b1a-ae7e-4e50-b264-bdda6c3a4a6d</td>\n",
       "      <td>ericcamacho</td>\n",
       "      <td>1423</td>\n",
       "    </tr>\n",
       "    <tr>\n",
       "      <th>85</th>\n",
       "      <td>b0847d5b-c1dd-41cc-8302-b451c8674c0e</td>\n",
       "      <td>gettodachoppaaa</td>\n",
       "      <td>2082</td>\n",
       "    </tr>\n",
       "    <tr>\n",
       "      <th>99</th>\n",
       "      <td>8151fff4-0b51-4577-ae0b-4622d244d324</td>\n",
       "      <td>neelister</td>\n",
       "      <td>1214</td>\n",
       "    </tr>\n",
       "    <tr>\n",
       "      <th>118</th>\n",
       "      <td>3bd342b6-e5ff-456b-b8e7-8aabbe9f0a32</td>\n",
       "      <td>unbiaseddestiny</td>\n",
       "      <td>2210</td>\n",
       "    </tr>\n",
       "    <tr>\n",
       "      <th>120</th>\n",
       "      <td>9aba2685-7c0a-4d1f-8e22-0c47ca0af580</td>\n",
       "      <td>itsevolution</td>\n",
       "      <td>4262</td>\n",
       "    </tr>\n",
       "    <tr>\n",
       "      <th>122</th>\n",
       "      <td>46119557-7ce9-488f-9225-47d539dd414e</td>\n",
       "      <td>kallklen</td>\n",
       "      <td>2272</td>\n",
       "    </tr>\n",
       "    <tr>\n",
       "      <th>126</th>\n",
       "      <td>803debdb-8136-4cb5-af29-dcd8db36bf2c</td>\n",
       "      <td>lucasnv_</td>\n",
       "      <td>1173</td>\n",
       "    </tr>\n",
       "    <tr>\n",
       "      <th>139</th>\n",
       "      <td>ce61fa42-2854-42d4-b20d-e9348e9d76e1</td>\n",
       "      <td>chicovivo</td>\n",
       "      <td>1324</td>\n",
       "    </tr>\n",
       "    <tr>\n",
       "      <th>145</th>\n",
       "      <td>24782f0b-4683-4f35-976a-ea21d6714ba6</td>\n",
       "      <td>medalutadorespacialx</td>\n",
       "      <td>2014</td>\n",
       "    </tr>\n",
       "    <tr>\n",
       "      <th>149</th>\n",
       "      <td>9c909d1e-fa2a-47b0-8535-d9e44375f9f8</td>\n",
       "      <td>marcos_oap</td>\n",
       "      <td>1213</td>\n",
       "    </tr>\n",
       "    <tr>\n",
       "      <th>156</th>\n",
       "      <td>8cf8e162-bcf1-4a68-9ea5-44ec75484734</td>\n",
       "      <td>reis131</td>\n",
       "      <td>1247</td>\n",
       "    </tr>\n",
       "    <tr>\n",
       "      <th>178</th>\n",
       "      <td>161bf8aa-33f9-42a3-b48f-97199c8370d1</td>\n",
       "      <td>zackwild</td>\n",
       "      <td>1146</td>\n",
       "    </tr>\n",
       "    <tr>\n",
       "      <th>200</th>\n",
       "      <td>10d18590-4365-465c-8174-311c38d3a548</td>\n",
       "      <td>telbatesbr</td>\n",
       "      <td>1026</td>\n",
       "    </tr>\n",
       "    <tr>\n",
       "      <th>203</th>\n",
       "      <td>7be4584b-288b-4027-a2fe-29d206313917</td>\n",
       "      <td>censeu</td>\n",
       "      <td>1301</td>\n",
       "    </tr>\n",
       "    <tr>\n",
       "      <th>225</th>\n",
       "      <td>a6cc4ba8-3d4b-4f6e-8588-418c11ed095e</td>\n",
       "      <td>hugonyland</td>\n",
       "      <td>2114</td>\n",
       "    </tr>\n",
       "    <tr>\n",
       "      <th>273</th>\n",
       "      <td>9c49a075-02a6-4a14-bc38-7b3bf18aa723</td>\n",
       "      <td>patriciasilvarecife</td>\n",
       "      <td>1100</td>\n",
       "    </tr>\n",
       "    <tr>\n",
       "      <th>274</th>\n",
       "      <td>5ed09fff-c0eb-48db-b6e3-20ef238e8b5c</td>\n",
       "      <td>gustavolourenco_</td>\n",
       "      <td>1287</td>\n",
       "    </tr>\n",
       "    <tr>\n",
       "      <th>379</th>\n",
       "      <td>ce0f9a00-3862-40ee-84bc-1aba65c19e15</td>\n",
       "      <td>edbruxo</td>\n",
       "      <td>1400</td>\n",
       "    </tr>\n",
       "    <tr>\n",
       "      <th>418</th>\n",
       "      <td>d6f92668-964e-462c-93e9-25e7771a5852</td>\n",
       "      <td>eduard0ml</td>\n",
       "      <td>1144</td>\n",
       "    </tr>\n",
       "    <tr>\n",
       "      <th>436</th>\n",
       "      <td>066c9fc6-f704-4165-a8f3-3d1968b0d4a3</td>\n",
       "      <td>marxzera</td>\n",
       "      <td>4304</td>\n",
       "    </tr>\n",
       "    <tr>\n",
       "      <th>450</th>\n",
       "      <td>52e4293d-0b9c-4215-be0d-e0d63e3536b3</td>\n",
       "      <td>nicosp90</td>\n",
       "      <td>1828</td>\n",
       "    </tr>\n",
       "    <tr>\n",
       "      <th>496</th>\n",
       "      <td>7107771a-0558-4aaa-a66e-570205a7f367</td>\n",
       "      <td>leogend</td>\n",
       "      <td>1607</td>\n",
       "    </tr>\n",
       "    <tr>\n",
       "      <th>497</th>\n",
       "      <td>3f55b86f-dc21-4ac8-8e89-7c1535359eaf</td>\n",
       "      <td>tapioca_amin</td>\n",
       "      <td>1394</td>\n",
       "    </tr>\n",
       "    <tr>\n",
       "      <th>507</th>\n",
       "      <td>24ef9aed-ab90-41bf-bf90-88d17210d1b2</td>\n",
       "      <td>thiagolange</td>\n",
       "      <td>1263</td>\n",
       "    </tr>\n",
       "    <tr>\n",
       "      <th>532</th>\n",
       "      <td>87040a44-0e04-4cc1-ad91-072d167b11b1</td>\n",
       "      <td>inimigodomouse</td>\n",
       "      <td>1606</td>\n",
       "    </tr>\n",
       "    <tr>\n",
       "      <th>735</th>\n",
       "      <td>f39b1da2-7633-4d8f-99b4-6ffd1e0f0d23</td>\n",
       "      <td>gleicearaujo_ds</td>\n",
       "      <td>1204</td>\n",
       "    </tr>\n",
       "  </tbody>\n",
       "</table>\n",
       "</div>"
      ],
      "text/plain": [
       "                                     UUID                  Name  Points\n",
       "1    2d3d2dce-d353-4961-ad39-46723efe2100         mariicmartins    1375\n",
       "3    65662aff-44d6-4f06-b9d9-07445c6e5943                kozat0    4063\n",
       "5    b2f9d026-0727-4125-b84b-c60af3148a15              dcha0tic    2080\n",
       "26   54edd84d-73ad-4821-8d53-7ed04f00b2e4           kaycristina    1153\n",
       "29   a1478518-6bf1-41e7-895b-355a06554b96           talismacedo    1116\n",
       "34   99431a0f-1f38-47ab-9136-445c7afae00d        nicolaslima167    1364\n",
       "43   af4f97a5-90a8-4ebf-8420-d7766ad093ea             ldbressan    1038\n",
       "47   4c77c153-19b9-42e2-a03c-04f43dcc6105       vinnyportugal07    1211\n",
       "59   21943df7-272e-46ef-aeb7-933a6637bfd5           gabra_alves    1013\n",
       "60   2a9d4ba3-4c58-47f9-8dc4-6f9cb50be1b1           dabathehutt    1307\n",
       "68   74c06e4d-0d4f-48f1-96af-a03c7b18ce47            thamibetin    1940\n",
       "77   98953b1a-ae7e-4e50-b264-bdda6c3a4a6d           ericcamacho    1423\n",
       "85   b0847d5b-c1dd-41cc-8302-b451c8674c0e       gettodachoppaaa    2082\n",
       "99   8151fff4-0b51-4577-ae0b-4622d244d324             neelister    1214\n",
       "118  3bd342b6-e5ff-456b-b8e7-8aabbe9f0a32       unbiaseddestiny    2210\n",
       "120  9aba2685-7c0a-4d1f-8e22-0c47ca0af580          itsevolution    4262\n",
       "122  46119557-7ce9-488f-9225-47d539dd414e              kallklen    2272\n",
       "126  803debdb-8136-4cb5-af29-dcd8db36bf2c              lucasnv_    1173\n",
       "139  ce61fa42-2854-42d4-b20d-e9348e9d76e1             chicovivo    1324\n",
       "145  24782f0b-4683-4f35-976a-ea21d6714ba6  medalutadorespacialx    2014\n",
       "149  9c909d1e-fa2a-47b0-8535-d9e44375f9f8            marcos_oap    1213\n",
       "156  8cf8e162-bcf1-4a68-9ea5-44ec75484734               reis131    1247\n",
       "178  161bf8aa-33f9-42a3-b48f-97199c8370d1              zackwild    1146\n",
       "200  10d18590-4365-465c-8174-311c38d3a548            telbatesbr    1026\n",
       "203  7be4584b-288b-4027-a2fe-29d206313917                censeu    1301\n",
       "225  a6cc4ba8-3d4b-4f6e-8588-418c11ed095e            hugonyland    2114\n",
       "273  9c49a075-02a6-4a14-bc38-7b3bf18aa723   patriciasilvarecife    1100\n",
       "274  5ed09fff-c0eb-48db-b6e3-20ef238e8b5c      gustavolourenco_    1287\n",
       "379  ce0f9a00-3862-40ee-84bc-1aba65c19e15               edbruxo    1400\n",
       "418  d6f92668-964e-462c-93e9-25e7771a5852             eduard0ml    1144\n",
       "436  066c9fc6-f704-4165-a8f3-3d1968b0d4a3              marxzera    4304\n",
       "450  52e4293d-0b9c-4215-be0d-e0d63e3536b3              nicosp90    1828\n",
       "496  7107771a-0558-4aaa-a66e-570205a7f367               leogend    1607\n",
       "497  3f55b86f-dc21-4ac8-8e89-7c1535359eaf          tapioca_amin    1394\n",
       "507  24ef9aed-ab90-41bf-bf90-88d17210d1b2           thiagolange    1263\n",
       "532  87040a44-0e04-4cc1-ad91-072d167b11b1        inimigodomouse    1606\n",
       "735  f39b1da2-7633-4d8f-99b4-6ffd1e0f0d23       gleicearaujo_ds    1204"
      ]
     },
     "execution_count": 39,
     "metadata": {},
     "output_type": "execute_result"
    }
   ],
   "source": [
    "df[condicao]"
   ]
  },
  {
   "cell_type": "code",
   "execution_count": 43,
   "id": "7ffef8fb",
   "metadata": {},
   "outputs": [
    {
     "data": {
      "text/plain": [
       "436    marxzera\n",
       "Name: Name, dtype: object"
      ]
     },
     "execution_count": 43,
     "metadata": {},
     "output_type": "execute_result"
    }
   ],
   "source": [
    "df[df['Points'] == df['Points'].max()]['Name']"
   ]
  },
  {
   "cell_type": "code",
   "execution_count": 44,
   "id": "f92835d2",
   "metadata": {},
   "outputs": [
    {
     "data": {
      "text/plain": [
       "'marxzera'"
      ]
     },
     "execution_count": 44,
     "metadata": {},
     "output_type": "execute_result"
    }
   ],
   "source": [
    "df[df['Points'] == df['Points'].max()]['Name'].iloc[0]"
   ]
  },
  {
   "cell_type": "code",
   "execution_count": 45,
   "id": "c4b8fb3f",
   "metadata": {},
   "outputs": [
    {
     "data": {
      "text/html": [
       "<div>\n",
       "<style scoped>\n",
       "    .dataframe tbody tr th:only-of-type {\n",
       "        vertical-align: middle;\n",
       "    }\n",
       "\n",
       "    .dataframe tbody tr th {\n",
       "        vertical-align: top;\n",
       "    }\n",
       "\n",
       "    .dataframe thead th {\n",
       "        text-align: right;\n",
       "    }\n",
       "</style>\n",
       "<table border=\"1\" class=\"dataframe\">\n",
       "  <thead>\n",
       "    <tr style=\"text-align: right;\">\n",
       "      <th></th>\n",
       "      <th>UUID</th>\n",
       "      <th>Name</th>\n",
       "      <th>Points</th>\n",
       "    </tr>\n",
       "  </thead>\n",
       "  <tbody>\n",
       "    <tr>\n",
       "      <th>1</th>\n",
       "      <td>2d3d2dce-d353-4961-ad39-46723efe2100</td>\n",
       "      <td>mariicmartins</td>\n",
       "      <td>1375</td>\n",
       "    </tr>\n",
       "    <tr>\n",
       "      <th>26</th>\n",
       "      <td>54edd84d-73ad-4821-8d53-7ed04f00b2e4</td>\n",
       "      <td>kaycristina</td>\n",
       "      <td>1153</td>\n",
       "    </tr>\n",
       "    <tr>\n",
       "      <th>29</th>\n",
       "      <td>a1478518-6bf1-41e7-895b-355a06554b96</td>\n",
       "      <td>talismacedo</td>\n",
       "      <td>1116</td>\n",
       "    </tr>\n",
       "    <tr>\n",
       "      <th>34</th>\n",
       "      <td>99431a0f-1f38-47ab-9136-445c7afae00d</td>\n",
       "      <td>nicolaslima167</td>\n",
       "      <td>1364</td>\n",
       "    </tr>\n",
       "    <tr>\n",
       "      <th>43</th>\n",
       "      <td>af4f97a5-90a8-4ebf-8420-d7766ad093ea</td>\n",
       "      <td>ldbressan</td>\n",
       "      <td>1038</td>\n",
       "    </tr>\n",
       "    <tr>\n",
       "      <th>47</th>\n",
       "      <td>4c77c153-19b9-42e2-a03c-04f43dcc6105</td>\n",
       "      <td>vinnyportugal07</td>\n",
       "      <td>1211</td>\n",
       "    </tr>\n",
       "    <tr>\n",
       "      <th>59</th>\n",
       "      <td>21943df7-272e-46ef-aeb7-933a6637bfd5</td>\n",
       "      <td>gabra_alves</td>\n",
       "      <td>1013</td>\n",
       "    </tr>\n",
       "    <tr>\n",
       "      <th>60</th>\n",
       "      <td>2a9d4ba3-4c58-47f9-8dc4-6f9cb50be1b1</td>\n",
       "      <td>dabathehutt</td>\n",
       "      <td>1307</td>\n",
       "    </tr>\n",
       "    <tr>\n",
       "      <th>68</th>\n",
       "      <td>74c06e4d-0d4f-48f1-96af-a03c7b18ce47</td>\n",
       "      <td>thamibetin</td>\n",
       "      <td>1940</td>\n",
       "    </tr>\n",
       "    <tr>\n",
       "      <th>77</th>\n",
       "      <td>98953b1a-ae7e-4e50-b264-bdda6c3a4a6d</td>\n",
       "      <td>ericcamacho</td>\n",
       "      <td>1423</td>\n",
       "    </tr>\n",
       "    <tr>\n",
       "      <th>99</th>\n",
       "      <td>8151fff4-0b51-4577-ae0b-4622d244d324</td>\n",
       "      <td>neelister</td>\n",
       "      <td>1214</td>\n",
       "    </tr>\n",
       "    <tr>\n",
       "      <th>126</th>\n",
       "      <td>803debdb-8136-4cb5-af29-dcd8db36bf2c</td>\n",
       "      <td>lucasnv_</td>\n",
       "      <td>1173</td>\n",
       "    </tr>\n",
       "    <tr>\n",
       "      <th>139</th>\n",
       "      <td>ce61fa42-2854-42d4-b20d-e9348e9d76e1</td>\n",
       "      <td>chicovivo</td>\n",
       "      <td>1324</td>\n",
       "    </tr>\n",
       "    <tr>\n",
       "      <th>149</th>\n",
       "      <td>9c909d1e-fa2a-47b0-8535-d9e44375f9f8</td>\n",
       "      <td>marcos_oap</td>\n",
       "      <td>1213</td>\n",
       "    </tr>\n",
       "    <tr>\n",
       "      <th>156</th>\n",
       "      <td>8cf8e162-bcf1-4a68-9ea5-44ec75484734</td>\n",
       "      <td>reis131</td>\n",
       "      <td>1247</td>\n",
       "    </tr>\n",
       "    <tr>\n",
       "      <th>178</th>\n",
       "      <td>161bf8aa-33f9-42a3-b48f-97199c8370d1</td>\n",
       "      <td>zackwild</td>\n",
       "      <td>1146</td>\n",
       "    </tr>\n",
       "    <tr>\n",
       "      <th>200</th>\n",
       "      <td>10d18590-4365-465c-8174-311c38d3a548</td>\n",
       "      <td>telbatesbr</td>\n",
       "      <td>1026</td>\n",
       "    </tr>\n",
       "    <tr>\n",
       "      <th>203</th>\n",
       "      <td>7be4584b-288b-4027-a2fe-29d206313917</td>\n",
       "      <td>censeu</td>\n",
       "      <td>1301</td>\n",
       "    </tr>\n",
       "    <tr>\n",
       "      <th>273</th>\n",
       "      <td>9c49a075-02a6-4a14-bc38-7b3bf18aa723</td>\n",
       "      <td>patriciasilvarecife</td>\n",
       "      <td>1100</td>\n",
       "    </tr>\n",
       "    <tr>\n",
       "      <th>274</th>\n",
       "      <td>5ed09fff-c0eb-48db-b6e3-20ef238e8b5c</td>\n",
       "      <td>gustavolourenco_</td>\n",
       "      <td>1287</td>\n",
       "    </tr>\n",
       "    <tr>\n",
       "      <th>379</th>\n",
       "      <td>ce0f9a00-3862-40ee-84bc-1aba65c19e15</td>\n",
       "      <td>edbruxo</td>\n",
       "      <td>1400</td>\n",
       "    </tr>\n",
       "    <tr>\n",
       "      <th>418</th>\n",
       "      <td>d6f92668-964e-462c-93e9-25e7771a5852</td>\n",
       "      <td>eduard0ml</td>\n",
       "      <td>1144</td>\n",
       "    </tr>\n",
       "    <tr>\n",
       "      <th>450</th>\n",
       "      <td>52e4293d-0b9c-4215-be0d-e0d63e3536b3</td>\n",
       "      <td>nicosp90</td>\n",
       "      <td>1828</td>\n",
       "    </tr>\n",
       "    <tr>\n",
       "      <th>496</th>\n",
       "      <td>7107771a-0558-4aaa-a66e-570205a7f367</td>\n",
       "      <td>leogend</td>\n",
       "      <td>1607</td>\n",
       "    </tr>\n",
       "    <tr>\n",
       "      <th>497</th>\n",
       "      <td>3f55b86f-dc21-4ac8-8e89-7c1535359eaf</td>\n",
       "      <td>tapioca_amin</td>\n",
       "      <td>1394</td>\n",
       "    </tr>\n",
       "    <tr>\n",
       "      <th>507</th>\n",
       "      <td>24ef9aed-ab90-41bf-bf90-88d17210d1b2</td>\n",
       "      <td>thiagolange</td>\n",
       "      <td>1263</td>\n",
       "    </tr>\n",
       "    <tr>\n",
       "      <th>532</th>\n",
       "      <td>87040a44-0e04-4cc1-ad91-072d167b11b1</td>\n",
       "      <td>inimigodomouse</td>\n",
       "      <td>1606</td>\n",
       "    </tr>\n",
       "    <tr>\n",
       "      <th>735</th>\n",
       "      <td>f39b1da2-7633-4d8f-99b4-6ffd1e0f0d23</td>\n",
       "      <td>gleicearaujo_ds</td>\n",
       "      <td>1204</td>\n",
       "    </tr>\n",
       "  </tbody>\n",
       "</table>\n",
       "</div>"
      ],
      "text/plain": [
       "                                     UUID                 Name  Points\n",
       "1    2d3d2dce-d353-4961-ad39-46723efe2100        mariicmartins    1375\n",
       "26   54edd84d-73ad-4821-8d53-7ed04f00b2e4          kaycristina    1153\n",
       "29   a1478518-6bf1-41e7-895b-355a06554b96          talismacedo    1116\n",
       "34   99431a0f-1f38-47ab-9136-445c7afae00d       nicolaslima167    1364\n",
       "43   af4f97a5-90a8-4ebf-8420-d7766ad093ea            ldbressan    1038\n",
       "47   4c77c153-19b9-42e2-a03c-04f43dcc6105      vinnyportugal07    1211\n",
       "59   21943df7-272e-46ef-aeb7-933a6637bfd5          gabra_alves    1013\n",
       "60   2a9d4ba3-4c58-47f9-8dc4-6f9cb50be1b1          dabathehutt    1307\n",
       "68   74c06e4d-0d4f-48f1-96af-a03c7b18ce47           thamibetin    1940\n",
       "77   98953b1a-ae7e-4e50-b264-bdda6c3a4a6d          ericcamacho    1423\n",
       "99   8151fff4-0b51-4577-ae0b-4622d244d324            neelister    1214\n",
       "126  803debdb-8136-4cb5-af29-dcd8db36bf2c             lucasnv_    1173\n",
       "139  ce61fa42-2854-42d4-b20d-e9348e9d76e1            chicovivo    1324\n",
       "149  9c909d1e-fa2a-47b0-8535-d9e44375f9f8           marcos_oap    1213\n",
       "156  8cf8e162-bcf1-4a68-9ea5-44ec75484734              reis131    1247\n",
       "178  161bf8aa-33f9-42a3-b48f-97199c8370d1             zackwild    1146\n",
       "200  10d18590-4365-465c-8174-311c38d3a548           telbatesbr    1026\n",
       "203  7be4584b-288b-4027-a2fe-29d206313917               censeu    1301\n",
       "273  9c49a075-02a6-4a14-bc38-7b3bf18aa723  patriciasilvarecife    1100\n",
       "274  5ed09fff-c0eb-48db-b6e3-20ef238e8b5c     gustavolourenco_    1287\n",
       "379  ce0f9a00-3862-40ee-84bc-1aba65c19e15              edbruxo    1400\n",
       "418  d6f92668-964e-462c-93e9-25e7771a5852            eduard0ml    1144\n",
       "450  52e4293d-0b9c-4215-be0d-e0d63e3536b3             nicosp90    1828\n",
       "496  7107771a-0558-4aaa-a66e-570205a7f367              leogend    1607\n",
       "497  3f55b86f-dc21-4ac8-8e89-7c1535359eaf         tapioca_amin    1394\n",
       "507  24ef9aed-ab90-41bf-bf90-88d17210d1b2          thiagolange    1263\n",
       "532  87040a44-0e04-4cc1-ad91-072d167b11b1       inimigodomouse    1606\n",
       "735  f39b1da2-7633-4d8f-99b4-6ffd1e0f0d23      gleicearaujo_ds    1204"
      ]
     },
     "execution_count": 45,
     "metadata": {},
     "output_type": "execute_result"
    }
   ],
   "source": [
    "cond = (df['Points'] >= 1000) & (df['Points'] <= 2000)\n",
    "df[cond]"
   ]
  },
  {
   "cell_type": "code",
   "execution_count": null,
   "id": "001b93b9",
   "metadata": {},
   "outputs": [],
   "source": []
  }
 ],
 "metadata": {
  "kernelspec": {
   "display_name": "meu_env",
   "language": "python",
   "name": "python3"
  },
  "language_info": {
   "codemirror_mode": {
    "name": "ipython",
    "version": 3
   },
   "file_extension": ".py",
   "mimetype": "text/x-python",
   "name": "python",
   "nbconvert_exporter": "python",
   "pygments_lexer": "ipython3",
   "version": "3.13.2"
  }
 },
 "nbformat": 4,
 "nbformat_minor": 5
}
